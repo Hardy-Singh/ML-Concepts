{
 "cells": [
  {
   "cell_type": "code",
   "execution_count": 3,
   "id": "2328cbc6-f427-4763-bd07-7d035599b748",
   "metadata": {},
   "outputs": [],
   "source": [
    "from sklearn.datasets import fetch_california_housing\n",
    "from sklearn.linear_model import Ridge, Lasso\n",
    "from sklearn.model_selection import train_test_split\n",
    "from sklearn.preprocessing import StandardScaler\n",
    "from sklearn.metrics import mean_squared_error\n",
    "import pandas as pd\n",
    "\n",
    "# Load dataset\n",
    "california = fetch_california_housing()\n",
    "\n",
    "\n"
   ]
  },
  {
   "cell_type": "code",
   "execution_count": 6,
   "id": "7a05a79b-a05c-4254-b099-69169e47efd1",
   "metadata": {},
   "outputs": [],
   "source": [
    "X = pd.DataFrame(california.data, columns=california.feature_names)\n",
    "y = pd.Series(california.target)"
   ]
  },
  {
   "cell_type": "code",
   "execution_count": 9,
   "id": "248f9db3-31bd-4c45-86a7-f4c5b924d35a",
   "metadata": {},
   "outputs": [],
   "source": [
    "scaler = StandardScaler()\n",
    "X_scaled = scaler.fit_transform(X)"
   ]
  },
  {
   "cell_type": "code",
   "execution_count": 10,
   "id": "03b85fbf-72ae-4231-9290-2e87550b4209",
   "metadata": {},
   "outputs": [],
   "source": [
    "X_train, X_test,y_train, y_test= train_test_split(X_scaled, y, test_size=0.2, random_state=42)"
   ]
  },
  {
   "cell_type": "code",
   "execution_count": 11,
   "id": "d4b8b329-9ade-4f66-a416-a6f15fbdc64d",
   "metadata": {},
   "outputs": [
    {
     "name": "stdout",
     "output_type": "stream",
     "text": [
      "Ridge MSE: 0.5558512007367515\n"
     ]
    }
   ],
   "source": [
    "ridge= Ridge(alpha=1.0)\n",
    "ridge.fit(X_train, y_train)\n",
    "ridge_preds= ridge.predict(X_test)\n",
    "print(\"Ridge MSE:\", mean_squared_error(y_test, ridge_preds))\n"
   ]
  },
  {
   "cell_type": "code",
   "execution_count": 12,
   "id": "cb8720f7-9a3f-4135-b5a3-0128c26fef0d",
   "metadata": {},
   "outputs": [
    {
     "name": "stdout",
     "output_type": "stream",
     "text": [
      "Lasso MSE: 1.3106960720039365\n"
     ]
    }
   ],
   "source": [
    "lasso= Lasso(alpha=1.0)\n",
    "lasso.fit(X_train, y_train)\n",
    "lasso_preds= lasso.predict(X_test)\n",
    "print(\"Lasso MSE:\", mean_squared_error(y_test, lasso_preds))"
   ]
  },
  {
   "cell_type": "code",
   "execution_count": 13,
   "id": "61f49698-6b31-4ae5-b849-8261a988d4e3",
   "metadata": {},
   "outputs": [
    {
     "name": "stdout",
     "output_type": "stream",
     "text": [
      "\n",
      "Ridge Coefficients:\n",
      " MedInc        0.852310\n",
      "HouseAge      0.122460\n",
      "AveRooms     -0.304871\n",
      "AveBedrms     0.370819\n",
      "Population   -0.002273\n",
      "AveOccup     -0.036627\n",
      "Latitude     -0.895885\n",
      "Longitude    -0.868165\n",
      "dtype: float64\n",
      "\n",
      "Lasso Coefficients:\n",
      " MedInc        0.0\n",
      "HouseAge      0.0\n",
      "AveRooms      0.0\n",
      "AveBedrms    -0.0\n",
      "Population   -0.0\n",
      "AveOccup     -0.0\n",
      "Latitude     -0.0\n",
      "Longitude    -0.0\n",
      "dtype: float64\n"
     ]
    }
   ],
   "source": [
    "ridge_coefs= pd.Series(ridge.coef_, index= california.feature_names)\n",
    "lasso_coefs = pd.Series(lasso.coef_, index=california.feature_names)\n",
    "\n",
    "print(\"\\nRidge Coefficients:\\n\", ridge_coefs)\n",
    "print(\"\\nLasso Coefficients:\\n\", lasso_coefs)"
   ]
  },
  {
   "cell_type": "code",
   "execution_count": null,
   "id": "1b47fafb-51a3-4c7c-8033-9179cbbe774e",
   "metadata": {},
   "outputs": [],
   "source": []
  }
 ],
 "metadata": {
  "kernelspec": {
   "display_name": "Python 3 (ipykernel)",
   "language": "python",
   "name": "python3"
  },
  "language_info": {
   "codemirror_mode": {
    "name": "ipython",
    "version": 3
   },
   "file_extension": ".py",
   "mimetype": "text/x-python",
   "name": "python",
   "nbconvert_exporter": "python",
   "pygments_lexer": "ipython3",
   "version": "3.13.3"
  }
 },
 "nbformat": 4,
 "nbformat_minor": 5
}
